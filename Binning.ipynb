{
  "nbformat": 4,
  "nbformat_minor": 0,
  "metadata": {
    "colab": {
      "name": "Binning.ipynb",
      "provenance": []
    },
    "kernelspec": {
      "name": "python3",
      "display_name": "Python 3"
    },
    "language_info": {
      "name": "python"
    }
  },
  "cells": [
    {
      "cell_type": "code",
      "metadata": {
        "id": "Q5I_eBZIPsmt"
      },
      "source": [
        "import numpy as np\n",
        "from matplotlib import pyplot\n",
        "from sklearn.datasets import load_iris"
      ],
      "execution_count": 1,
      "outputs": []
    },
    {
      "cell_type": "code",
      "metadata": {
        "id": "P21dyxshQZtc"
      },
      "source": [
        "# load iris data set from sklearnn\n",
        "dataset=load_iris()\n",
        "a=dataset.data\n",
        "b=np.zeros(150)"
      ],
      "execution_count": 2,
      "outputs": []
    },
    {
      "cell_type": "code",
      "metadata": {
        "id": "aKTJXMHCfnBM"
      },
      "source": [
        "dataset"
      ],
      "execution_count": null,
      "outputs": []
    },
    {
      "cell_type": "code",
      "metadata": {
        "id": "6l_KgGw0Qxsw"
      },
      "source": [
        "print(a)\n"
      ],
      "execution_count": null,
      "outputs": []
    },
    {
      "cell_type": "code",
      "metadata": {
        "id": "uWbNHKWvgLFj"
      },
      "source": [
        "b"
      ],
      "execution_count": null,
      "outputs": []
    },
    {
      "cell_type": "code",
      "metadata": {
        "id": "RmxNGk6ZRQPx"
      },
      "source": [
        "a.shape"
      ],
      "execution_count": null,
      "outputs": []
    },
    {
      "cell_type": "code",
      "metadata": {
        "id": "93K7w3pDQH2Y"
      },
      "source": [
        "for i in range(150):\n",
        "  b[i]=a[i,1]   # take second column from a"
      ],
      "execution_count": 7,
      "outputs": []
    },
    {
      "cell_type": "code",
      "metadata": {
        "colab": {
          "base_uri": "https://localhost:8080/"
        },
        "id": "SFZzWUBbgxD-",
        "outputId": "9f7b7ede-8ad7-4ad1-ffbc-f3578e338842"
      },
      "source": [
        "b.shape"
      ],
      "execution_count": 8,
      "outputs": [
        {
          "output_type": "execute_result",
          "data": {
            "text/plain": [
              "(150,)"
            ]
          },
          "metadata": {},
          "execution_count": 8
        }
      ]
    },
    {
      "cell_type": "code",
      "metadata": {
        "id": "-DdS42sTRsRU"
      },
      "source": [
        "print(b)"
      ],
      "execution_count": null,
      "outputs": []
    },
    {
      "cell_type": "code",
      "metadata": {
        "id": "Wx_XXR2VSEqO"
      },
      "source": [
        "b=np.sort(b) # sort array"
      ],
      "execution_count": 11,
      "outputs": []
    },
    {
      "cell_type": "code",
      "metadata": {
        "id": "5xCj68RxSLfB"
      },
      "source": [
        "b"
      ],
      "execution_count": null,
      "outputs": []
    },
    {
      "cell_type": "code",
      "metadata": {
        "id": "5iGwj05FSSM8"
      },
      "source": [
        "bin1=np.zeros((30,5))  # 30 rows and 5 column\n",
        "bin2=np.zeros((30,5))\n",
        "bin3=np.zeros((30,5))"
      ],
      "execution_count": 13,
      "outputs": []
    },
    {
      "cell_type": "code",
      "metadata": {
        "id": "VtW4ZpUjhYjO"
      },
      "source": [
        "bin1"
      ],
      "execution_count": null,
      "outputs": []
    },
    {
      "cell_type": "code",
      "metadata": {
        "id": "nGxc5vACdynj"
      },
      "source": [
        "bin2"
      ],
      "execution_count": null,
      "outputs": []
    },
    {
      "cell_type": "code",
      "metadata": {
        "id": "8gTHO8C3dzQY"
      },
      "source": [
        "bin3"
      ],
      "execution_count": null,
      "outputs": []
    },
    {
      "cell_type": "code",
      "metadata": {
        "id": "X_8ikfheSqh9"
      },
      "source": [
        "# bin mean\n",
        "for i in range(0,150,5):\n",
        "  k=int(i/5)\n",
        "  mean=(b[i]+b[i+1]+b[i+2]+b[i+3]+b[i+4])/5   # average of 5 numbers from b->1D\n",
        "  for j in range (5):\n",
        "    bin1[k,j]=mean                        # same value in all columns\n",
        "print(\"Bin mean:\",bin1)"
      ],
      "execution_count": null,
      "outputs": []
    },
    {
      "cell_type": "code",
      "metadata": {
        "id": "vjB58CFbWc0t"
      },
      "source": [
        "# bin boundaries\n",
        "for i in range(0,150,5):\n",
        "  k=int(i/5)\n",
        "  for j in range(5):\n",
        "    if (b[i+j]-b[i]<(b[i+4]-b[i+j])):\n",
        "      bin2[k,j]=b[i]\n",
        "    else:\n",
        "      bin2[k,j]=b[i+4]\n",
        "print(\"Bin boundaries:\\n\",bin2)\n",
        "  "
      ],
      "execution_count": null,
      "outputs": []
    },
    {
      "cell_type": "code",
      "metadata": {
        "id": "5Wn4LkTxX7SR"
      },
      "source": [
        "# bin median\n",
        "for i in range(0,150,5):\n",
        "  k=int(i/5)\n",
        "  for j in range(5):\n",
        "    bin3[k,j]=b[i+2]\n",
        "print(\"Bin Median:\\n\",bin3)\n"
      ],
      "execution_count": null,
      "outputs": []
    },
    {
      "cell_type": "code",
      "metadata": {
        "colab": {
          "base_uri": "https://localhost:8080/",
          "height": 265
        },
        "id": "fC2GtvrTfHjF",
        "outputId": "ba0fe31c-5273-4910-b420-b254aa75db90"
      },
      "source": [
        "# show histogram for bin1\n",
        "pyplot.hist(bin1,bins=10)\n",
        "pyplot.show()   # 0.25 increment"
      ],
      "execution_count": 25,
      "outputs": [
        {
          "output_type": "display_data",
          "data": {
            "image/png": "[encoded data removed]",
            "text/plain": [
              "<Figure size 432x288 with 1 Axes>"
            ]
          },
          "metadata": {
            "needs_background": "light"
          }
        }
      ]
    },
    {
      "cell_type": "code",
      "metadata": {
        "colab": {
          "base_uri": "https://localhost:8080/",
          "height": 265
        },
        "id": "UcXoeu7ffbUS",
        "outputId": "0539a47d-4a39-416c-fca2-263b08fe7fa6"
      },
      "source": [
        "# show histogram for bin2\n",
        "pyplot.hist(bin2,bins=10)\n",
        "pyplot.show()   # 0.50 increment"
      ],
      "execution_count": 28,
      "outputs": [
        {
          "output_type": "display_data",
          "data": {
            "image/png": "[encoded data removed]",
            "text/plain": [
              "<Figure size 432x288 with 1 Axes>"
            ]
          },
          "metadata": {
            "needs_background": "light"
          }
        }
      ]
    },
    {
      "cell_type": "code",
      "metadata": {
        "id": "o05Fi65Mf7pg"
      },
      "source": [
        ""
      ],
      "execution_count": null,
      "outputs": []
    }
  ]
}